{
 "cells": [
  {
   "cell_type": "markdown",
   "metadata": {},
   "source": [
    "# 舵机相关"
   ]
  },
  {
   "cell_type": "markdown",
   "metadata": {},
   "source": [
    "# 基本运动\n",
    "\n",
    "在本示例中，我们将介绍控制JetBot的基础知识。\n",
    "\n",
    "### 导入Robot类\n",
    "要开始对JetBot进行编程，我们需要导入``Robot``类这个类使我们可以轻松控制机器人的电机！它包含在``jetbot`包中。\n",
    "\n",
    "> 如果您不熟悉Python，实则*软件包*实际上是一个包含代码文件的文件夹。这些代码文件被称为*模块*。\n",
    "\n",
    "要导入Robot类，请选中下面的元格后按``ctrl + enter``或上面的``play``图标。这将执行包含在单元中的代码"
   ]
  },
  {
   "cell_type": "code",
   "execution_count": 1,
   "metadata": {},
   "outputs": [],
   "source": [
    "from jetbot import Robot"
   ]
  },
  {
   "cell_type": "markdown",
   "metadata": {},
   "source": [
    "我们现在已经导入了``Robot``类，我们可以按以下方式来初始化类的*实例*。"
   ]
  },
  {
   "cell_type": "code",
   "execution_count": 2,
   "metadata": {},
   "outputs": [],
   "source": [
    "robot = Robot()\n",
    "#注意，可以对小车设置的速度范围为0到200"
   ]
  },
  {
   "cell_type": "markdown",
   "metadata": {},
   "source": [
    "### 控制机器人"
   ]
  },
  {
   "cell_type": "markdown",
   "metadata": {},
   "source": [
    "现在，我们已经创建了类``Robot``的实例\"robot\"，我们可以使用该实例来控制机器人。为了使机器人以最大速度的30％逆时针旋转，我们可以执行以下命令\n",
    "\n",
    "> 注意：下一条命令将使机器人移动！请确保机器人有足够的运动空间。"
   ]
  },
  {
   "cell_type": "code",
   "execution_count": 3,
   "metadata": {},
   "outputs": [],
   "source": [
    "robot.set_motors(0, 130)"
   ]
  },
  {
   "cell_type": "markdown",
   "metadata": {},
   "source": [
    "太酷了，您应该看到机器人逆时针旋转！\n",
    "\n",
    "> 如果您的机器人没有向左转，则意味着可能台电机电缆接反了！先关闭机器人电源，检查电机线缆是否接错。\n",
    "\n",
    "> 提醒：务必小心检查接线，不要在正在运行的系统上更改接线！\n",
    "\n",
    "现在，要停止机器人，您可以调用``stop``方法。"
   ]
  },
  {
   "cell_type": "code",
   "execution_count": 4,
   "metadata": {},
   "outputs": [],
   "source": [
    "robot.stop()"
   ]
  },
  {
   "cell_type": "markdown",
   "metadata": {},
   "source": [
    "如果我们想在设定的时间内来运行机器人。为此，我们可以使用Python的 ``time``模块。"
   ]
  },
  {
   "cell_type": "code",
   "execution_count": 5,
   "metadata": {},
   "outputs": [],
   "source": [
    "import time"
   ]
  },
  {
   "cell_type": "markdown",
   "metadata": {},
   "source": [
    "该模块定义了``sleep``函数，该函数使代码执行在运行下一个命令之前阻塞指定的秒数。请尝试以下操作，使机器人仅左转半秒。"
   ]
  },
  {
   "cell_type": "markdown",
   "metadata": {},
   "source": [
    "# 单独控制舵机"
   ]
  },
  {
   "cell_type": "code",
   "execution_count": 6,
   "metadata": {},
   "outputs": [],
   "source": [
    "from jetbot import Pwm"
   ]
  },
  {
   "cell_type": "code",
   "execution_count": 7,
   "metadata": {},
   "outputs": [],
   "source": [
    "direction = Pwm()"
   ]
  },
  {
   "cell_type": "markdown",
   "metadata": {},
   "source": [
    "### 舵机居中"
   ]
  },
  {
   "cell_type": "code",
   "execution_count": 8,
   "metadata": {},
   "outputs": [],
   "source": [
    "direction.switch(direction.turn_middle)"
   ]
  },
  {
   "cell_type": "markdown",
   "metadata": {},
   "source": [
    "### 舵机左转"
   ]
  },
  {
   "cell_type": "code",
   "execution_count": 9,
   "metadata": {},
   "outputs": [],
   "source": [
    "direction.switch(direction.turn_left)"
   ]
  },
  {
   "cell_type": "code",
   "execution_count": 10,
   "metadata": {},
   "outputs": [],
   "source": [
    "direction.switch(direction.turn_left2)"
   ]
  },
  {
   "cell_type": "code",
   "execution_count": 11,
   "metadata": {},
   "outputs": [],
   "source": [
    "direction.switch(direction.turn_left3)"
   ]
  },
  {
   "cell_type": "markdown",
   "metadata": {},
   "source": [
    "### 舵机右转"
   ]
  },
  {
   "cell_type": "code",
   "execution_count": 12,
   "metadata": {},
   "outputs": [],
   "source": [
    "direction.switch(direction.turn_right)"
   ]
  },
  {
   "cell_type": "code",
   "execution_count": 13,
   "metadata": {},
   "outputs": [],
   "source": [
    "direction.switch(direction.turn_right2)"
   ]
  },
  {
   "cell_type": "code",
   "execution_count": 14,
   "metadata": {},
   "outputs": [],
   "source": [
    "direction.switch(direction.turn_right3)"
   ]
  },
  {
   "cell_type": "markdown",
   "metadata": {},
   "source": [
    "### 单独控制电机前进"
   ]
  },
  {
   "cell_type": "code",
   "execution_count": 15,
   "metadata": {},
   "outputs": [],
   "source": [
    "robot.set_motors(0, 120)\n",
    "time.sleep(3)\n",
    "robot.stop()"
   ]
  },
  {
   "cell_type": "markdown",
   "metadata": {},
   "source": [
    "### 单独控制电机后退"
   ]
  },
  {
   "cell_type": "code",
   "execution_count": 19,
   "metadata": {},
   "outputs": [],
   "source": [
    "robot.set_motors(-100, -130)\n",
    "time.sleep(3)\n",
    "robot.stop()"
   ]
  },
  {
   "cell_type": "markdown",
   "metadata": {},
   "source": [
    "### 小车直行"
   ]
  },
  {
   "cell_type": "code",
   "execution_count": 23,
   "metadata": {},
   "outputs": [],
   "source": [
    "direction.switch(direction.turn_middle)\n",
    "\n",
    "robot.set_motors(120, 120)\n",
    "\n",
    "time.sleep(3)\n",
    "robot.stop()"
   ]
  },
  {
   "cell_type": "markdown",
   "metadata": {},
   "source": [
    "### 小车左转加前进"
   ]
  },
  {
   "cell_type": "code",
   "execution_count": 25,
   "metadata": {},
   "outputs": [],
   "source": [
    "direction.switch(direction.turn_left)\n",
    "\n",
    "robot.set_motors(120, 120)\n",
    "\n",
    "time.sleep(3)\n",
    "robot.stop()"
   ]
  },
  {
   "cell_type": "markdown",
   "metadata": {},
   "source": [
    "### 小车右转加前进"
   ]
  },
  {
   "cell_type": "code",
   "execution_count": 24,
   "metadata": {},
   "outputs": [],
   "source": [
    "direction.switch(direction.turn_right2)\n",
    "\n",
    "robot.set_motors(130, 130)\n",
    "\n",
    "time.sleep(3)\n",
    "robot.stop()"
   ]
  },
  {
   "cell_type": "markdown",
   "metadata": {},
   "source": [
    "### 小车左转加后退"
   ]
  },
  {
   "cell_type": "code",
   "execution_count": 21,
   "metadata": {},
   "outputs": [],
   "source": [
    "direction.switch(direction.turn_left)\n",
    "\n",
    "robot.set_motors(-120, -120)\n",
    "\n",
    "time.sleep(3)\n",
    "robot.stop()"
   ]
  },
  {
   "cell_type": "markdown",
   "metadata": {},
   "source": [
    "### 小车右转加后退"
   ]
  },
  {
   "cell_type": "code",
   "execution_count": 22,
   "metadata": {},
   "outputs": [],
   "source": [
    "direction.switch(direction.turn_right)\n",
    "\n",
    "robot.set_motors(-130, -130)\n",
    "\n",
    "time.sleep(3)\n",
    "robot.stop()"
   ]
  },
  {
   "cell_type": "markdown",
   "metadata": {},
   "source": [
    "# 按钮控制\n",
    "\n",
    "为事件附加功能"
   ]
  },
  {
   "cell_type": "markdown",
   "metadata": {},
   "source": [
    "使用traitlets的另一种方法是将函数（如``forward``）附加到事件上。每当对对象进行更改时，将调用这些函数，并将传递有关该更改的一些信息，例如``old``值和``new``值。\n",
    "\n",
    "让我们创建并显示一些用于控制机器人的按钮。"
   ]
  },
  {
   "cell_type": "code",
   "execution_count": 26,
   "metadata": {},
   "outputs": [],
   "source": [
    "import ipywidgets.widgets as widgets"
   ]
  },
  {
   "cell_type": "code",
   "execution_count": 27,
   "metadata": {},
   "outputs": [
    {
     "data": {
      "application/vnd.jupyter.widget-view+json": {
       "model_id": "0d56b8aebb01467ab49a30a7295f908c",
       "version_major": 2,
       "version_minor": 0
      },
      "text/plain": [
       "VBox(children=(HBox(children=(Button(description='左转', layout=Layout(align_self='center', height='80px', width…"
      ]
     },
     "metadata": {},
     "output_type": "display_data"
    }
   ],
   "source": [
    "# create buttons\n",
    "button_layout = widgets.Layout(width='100px', height='80px', align_self='center')\n",
    "forward_button = widgets.Button(description='前进', layout=button_layout, button_style='danger')\n",
    "backward_button = widgets.Button(description='后退', layout=button_layout, button_style='danger')\n",
    "stop_button = widgets.Button(description='停止', layout=button_layout, button_style='danger')\n",
    "middle_button =  widgets.Button(description='打正方向', layout=button_layout)\n",
    "left_button = widgets.Button(description='左转', layout=button_layout)\n",
    "right_button = widgets.Button(description='右转', layout=button_layout)\n",
    "\n",
    "# display buttons\n",
    "middle_box = widgets.HBox([left_button, middle_button, right_button], layout=widgets.Layout(align_self='center'))\n",
    "move_box = widgets.HBox([forward_button, stop_button, backward_button], layout=widgets.Layout(align_self='center'))\n",
    "controls_box = widgets.VBox([middle_box, move_box])\n",
    "display(controls_box)"
   ]
  },
  {
   "cell_type": "markdown",
   "metadata": {},
   "source": [
    "您应该看到上面显示了一组机器人的控件！但是现在并没有实际功能。为此，我们需要创建一些有实际功能并将其附加到按钮``on_click``事件的函数。"
   ]
  },
  {
   "cell_type": "markdown",
   "metadata": {},
   "source": [
    "在前进或者后退之前需要先把方向盘打正"
   ]
  },
  {
   "cell_type": "code",
   "execution_count": 28,
   "metadata": {},
   "outputs": [],
   "source": [
    "def stop(change):\n",
    "    robot.stop()\n",
    "    \n",
    "def step_forward(change):\n",
    "    robot.forward(120)\n",
    "\n",
    "def step_backward(change):\n",
    "    robot.backward(120)\n",
    "\n",
    "#turn_left、turn_left2、turn_left3分别为转弯的大小\n",
    "def steering_left(change):\n",
    "    direction.switch(direction.turn_left)\n",
    "\n",
    "#turn_right、turn_right2、turn_right3分别为转弯的大小\n",
    "def steering_right(change):\n",
    "    direction.switch(direction.turn_right)\n",
    "\n",
    "def steering_middle(change):\n",
    "    direction.switch(direction.turn_middle)"
   ]
  },
  {
   "cell_type": "markdown",
   "metadata": {},
   "source": [
    "现在我们已经定义了函数，让我们将它们附加到每个按钮的单击事件上"
   ]
  },
  {
   "cell_type": "code",
   "execution_count": 29,
   "metadata": {},
   "outputs": [],
   "source": [
    "forward_button.on_click(step_forward)\n",
    "stop_button.on_click(stop)\n",
    "backward_button.on_click(step_backward)\n",
    "left_button.on_click(steering_left)\n",
    "right_button.on_click(steering_right)\n",
    "middle_button.on_click(steering_middle)"
   ]
  },
  {
   "cell_type": "markdown",
   "metadata": {},
   "source": [
    "现在，当您单击每个按钮时，您应该看到机器人在移动！"
   ]
  },
  {
   "cell_type": "markdown",
   "metadata": {},
   "source": [
    "### 结论\n",
    "本示例就是这样！希望您有信心可以对机器人进行编程以使其做基本\n",
    "移动:)"
   ]
  },
  {
   "cell_type": "code",
   "execution_count": null,
   "metadata": {},
   "outputs": [],
   "source": []
  }
 ],
 "metadata": {
  "kernelspec": {
   "display_name": "Python 3",
   "language": "python",
   "name": "python3"
  },
  "language_info": {
   "codemirror_mode": {
    "name": "ipython",
    "version": 3
   },
   "file_extension": ".py",
   "mimetype": "text/x-python",
   "name": "python",
   "nbconvert_exporter": "python",
   "pygments_lexer": "ipython3",
   "version": "3.6.9"
  }
 },
 "nbformat": 4,
 "nbformat_minor": 4
}
