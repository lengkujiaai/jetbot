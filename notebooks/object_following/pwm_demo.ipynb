{
 "cells": [
  {
   "cell_type": "markdown",
   "metadata": {},
   "source": [
    "# 舵机小车跟随目标"
   ]
  },
  {
   "cell_type": "markdown",
   "metadata": {},
   "source": [
    "### 1、objectId 是要跟随的目标，1是人"
   ]
  },
  {
   "cell_type": "code",
   "execution_count": 1,
   "metadata": {},
   "outputs": [],
   "source": [
    "objectId = 1#数字代表要跟随的目标,37是球"
   ]
  },
  {
   "cell_type": "markdown",
   "metadata": {},
   "source": [
    "### 2、先加载检测目标的模型"
   ]
  },
  {
   "cell_type": "code",
   "execution_count": 2,
   "metadata": {},
   "outputs": [],
   "source": [
    "from jetbot import ObjectDetector\n",
    "objects_and_index ={0:'background背景',1:'person人',2:'bicycle自行车',3:'car小汽车',4:'motorcycle摩托车',5:'airplane飞机',6:'bus公共汽车',7:'train火车',8:'truck卡车',9:'boat船',10:'traffic light交通灯',11:'fire hydrant消防栓',12:'12',13:'stop sign停车标志',14:'parking meter停车收费表',15:'bench长凳',16:'bird鸟',17:'cat猫',18:'dog狗',19:'horse马',20:'sheep羊',21:'cow牛',22:'elephant大象',23:'bear熊',24:'zebra斑马',25:'giraffe长颈鹿',26:'26',27:'backpack背包',28:'umbrella雨伞',29:'29',30:'30',31:'handbag手提包',32:'tie领带',33:'suitcase手提箱',34:'frisbee飞盘',35:'skis滑雪板',36:'snowboard滑雪板',37:'sports ball运动球',38:'kite风筝',39:'baseball bat棒球棒',40:'baseball glove棒球手套',41:'skateboard滑板',42:'surfboard冲浪板',43:'tennis racket网球拍',44:'bottle瓶子',45:'45',46:'wine glass酒杯',47:'cup杯子',48:'fork叉',49:'knife刀',50:'spoon勺子',51:'bowl碗',52:'banana香蕉',53:'apple苹果',54:'sandwich三明治',55:'orange橙子;柑橘',56:'broccoli绿菜花;西兰花',57:'carrot胡萝卜',58:'hot dog热狗(香肠面包)',59:'pizza比萨饼;意大利饼',60:'donut油炸圈饼；圆环图；甜甜圈',61:'cake糕饼;蛋糕',62:'chair椅子',63:'couch长沙发',64:'potted plant盆栽',65:'bed床',66:'66',67:'dining table餐桌',68:'68',69:'69',70:'toilet坐便器',71:'71',72:'tv',73:'laptop笔记本电脑',74:'mouse鼠标',75:'remote遥控',76:'keyboard键盘',77:'cell phone手机;移动电话',78:'microwave微波炉',79:'oven烤箱;烤炉',80:'toaster(电的)烤面包片',81:'sink洗涤池,洗碗槽',82:'refrigerator(电)冰箱',83:'83',84:'book书',85:'clock时钟;钟',86:'vase花瓶;装饰瓶',87:'scissors剪刀',88:'teddy bear泰迪熊',89:'hair drier吹风机;电吹风',90:'toothbrush牙刷'}\n",
    "model = ObjectDetector('ssd_mobilenet_v2_coco.engine')"
   ]
  },
  {
   "cell_type": "markdown",
   "metadata": {},
   "source": [
    "### 3、引入python的常用函数库"
   ]
  },
  {
   "cell_type": "code",
   "execution_count": 3,
   "metadata": {},
   "outputs": [],
   "source": [
    "import cv2\n",
    "import sys\n",
    "import time\n",
    "import numpy as np\n",
    "from datetime import datetime\n",
    "from IPython.display import display\n",
    "import ipywidgets.widgets as widgets\n",
    "from IPython.display import clear_output"
   ]
  },
  {
   "cell_type": "markdown",
   "metadata": {},
   "source": [
    "### 4、引入自定义函数库"
   ]
  },
  {
   "cell_type": "code",
   "execution_count": 4,
   "metadata": {},
   "outputs": [],
   "source": [
    "from jetbot import Pwm\n",
    "from jetbot import Robot\n",
    "from jetbot import Camera\n",
    "from jetbot import bgr8_to_jpeg"
   ]
  },
  {
   "cell_type": "markdown",
   "metadata": {},
   "source": [
    "### 5、计数相关的全局变量，避免每帧都调用一次"
   ]
  },
  {
   "cell_type": "code",
   "execution_count": 5,
   "metadata": {},
   "outputs": [],
   "source": [
    "t_turn1 = 0\n",
    "robot = Robot() #用来操控机器人小车"
   ]
  },
  {
   "cell_type": "markdown",
   "metadata": {},
   "source": [
    "### 6、自定义方法用来显示检测到的目标"
   ]
  },
  {
   "cell_type": "code",
   "execution_count": 6,
   "metadata": {},
   "outputs": [],
   "source": [
    "def print_names(detections):\n",
    "    s = ''\n",
    "    for x in detections[0]:\n",
    "        idx = x.get('label')\n",
    "        confidence = x.get('confidence')\n",
    "        name = objects_and_index.get(idx)\n",
    "        s = s +'看到了物品：'+ name+', 确信度是: '+str(confidence) +'\\n'\n",
    "    clear_output(True)\n",
    "    print(s)"
   ]
  },
  {
   "cell_type": "markdown",
   "metadata": {},
   "source": [
    "### 7、初始化相机并打印检测到的目标看看"
   ]
  },
  {
   "cell_type": "code",
   "execution_count": 7,
   "metadata": {},
   "outputs": [],
   "source": [
    "#camera = Camera.instance(width=300, height=300)\n",
    "camera = Camera.instance(width=300, height=300, fps=20)"
   ]
  },
  {
   "cell_type": "code",
   "execution_count": 8,
   "metadata": {},
   "outputs": [
    {
     "name": "stdout",
     "output_type": "stream",
     "text": [
      "\n"
     ]
    }
   ],
   "source": [
    "detections = model(camera.value)\n",
    "print_names(detections)"
   ]
  },
  {
   "cell_type": "markdown",
   "metadata": {},
   "source": [
    "### 8、舵机转向的参考值"
   ]
  },
  {
   "cell_type": "markdown",
   "metadata": {},
   "source": [
    "当目标在摄像头的左侧时，print(center)的值为-0.25左右\n",
    "\n",
    "当目标在摄像头的右侧时，print(center)的值为0.25左右\n",
    "\n",
    "当目标在摄像头前方时，print(center)的值为0左右"
   ]
  },
  {
   "cell_type": "code",
   "execution_count": 9,
   "metadata": {},
   "outputs": [],
   "source": [
    "direction = Pwm()\n",
    "#direction.switch(direction.turn_left)"
   ]
  },
  {
   "cell_type": "markdown",
   "metadata": {},
   "source": [
    "# 执行目标检测、目标跟随"
   ]
  },
  {
   "cell_type": "code",
   "execution_count": 10,
   "metadata": {},
   "outputs": [
    {
     "data": {
      "application/vnd.jupyter.widget-view+json": {
       "model_id": "90af612872fe46fdbf3c9a2d48da47f4",
       "version_major": 2,
       "version_minor": 0
      },
      "text/plain": [
       "VBox(children=(HBox(children=(Image(value=b'', format='jpeg', height='300', width='300'), FloatSlider(value=0.…"
      ]
     },
     "metadata": {},
     "output_type": "display_data"
    },
    {
     "data": {
      "text/plain": [
       "0"
      ]
     },
     "execution_count": 10,
     "metadata": {},
     "output_type": "execute_result"
    }
   ],
   "source": [
    "blocked_widget = widgets.FloatSlider(min=0.0, max=1.0, value=0.0, description='blocked')\n",
    "image_widget = widgets.Image(format='jpeg', width=300, height=300)\n",
    "label_widget = widgets.IntText(value=1, description='tracked label')\n",
    "speed_widget = widgets.FloatSlider(value=0.4, min=0.0, max=1.0, description='speed')\n",
    "turn_gain_widget = widgets.FloatSlider(value=0.8, min=0.0, max=2.0, description='turn gain')\n",
    "\n",
    "display(widgets.VBox([\n",
    "    widgets.HBox([image_widget, blocked_widget]),\n",
    "    label_widget,\n",
    "    speed_widget,\n",
    "    turn_gain_widget\n",
    "]))\n",
    "\n",
    "width = int(image_widget.width)\n",
    "height = int(image_widget.height)\n",
    "\n",
    "def detection_center(detection):\n",
    "    \"\"\"Computes the center x, y coordinates of the object\"\"\"\n",
    "    bbox = detection['bbox']\n",
    "    center_x = (bbox[0] + bbox[2]) / 2.0 - 0.5\n",
    "    center_y = (bbox[1] + bbox[3]) / 2.0 - 0.5\n",
    "    return (center_x, center_y)\n",
    "    \n",
    "def norm(vec):\n",
    "    \"\"\"Computes the length of the 2D vector\"\"\"\n",
    "    return np.sqrt(vec[0]**2 + vec[1]**2)\n",
    "\n",
    "def closest_detection(detections):\n",
    "    \"\"\"Finds the detection closest to the image center\"\"\"\n",
    "    closest_detection = None\n",
    "    for det in detections:\n",
    "        center = detection_center(det)\n",
    "        if closest_detection is None:\n",
    "            closest_detection = det\n",
    "        elif norm(detection_center(det)) < norm(detection_center(closest_detection)):\n",
    "            closest_detection = det\n",
    "    return closest_detection\n",
    "        \n",
    "def execute(change):\n",
    "    global objectId\n",
    "    \n",
    "    #这里是没10帧调用1帧\n",
    "    global t_turn1\n",
    "    t_turn1 += 1\n",
    "    if t_turn1 != 5:\n",
    "        return 0\n",
    "    else:\n",
    "        t_turn1 = 0\n",
    "    \n",
    "    image = change['new']\n",
    "    detections = model(image)\n",
    "    \n",
    "    print_names(detections)\n",
    "    \n",
    "    # 标出所有探测到的对象\n",
    "    for det in detections[0]:\n",
    "        bbox = det['bbox']\n",
    "        cv2.rectangle(image, (int(width * bbox[0]), int(height * bbox[1])), (int(width * bbox[2]), int(height * bbox[3])), (255, 0, 0), 2)\n",
    "    \n",
    "    # 从对象中找到匹配的类标签\n",
    "    #matching_detections = [d for d in detections[0] if d['label'] == int(label_widget.value)]\n",
    "    \n",
    "    #跟随自己在第一步定义的目标\n",
    "    matching_detections = [d for d in detections[0] if d['label'] == int(objectId)]\n",
    "    \n",
    "    # 标出距视野中心最近的对象\n",
    "    det = closest_detection(matching_detections)\n",
    "    if det is not None:\n",
    "        bbox = det['bbox']\n",
    "        cv2.rectangle(image, (int(width * bbox[0]), int(height * bbox[1])), (int(width * bbox[2]), int(height * bbox[3])), (0, 255, 0), 5)\n",
    "    \n",
    "    if det is None:\n",
    "        robot.forward(0)# 如果没有目标就停止\n",
    "    else:# 有目标就朝目标走\n",
    "        # 向前移动小车并根据目标对中心的偏离进行偏转\n",
    "        center = detection_center(det)\n",
    "        if center[0] < -0.2:\n",
    "            direction.switch(direction.turn_left2)\n",
    "        if center[0] > -0.2 and center[0] < -0.1:\n",
    "            direction.switch(direction.turn_left)\n",
    "        if center[0] > 0.1 and center[0] < 0.2:\n",
    "            direction.switch(direction.turn_right)\n",
    "        if center[0] > 0.2:\n",
    "            direction.switch(direction.turn_right2)\n",
    "        if center[0] > -0.1 and center[0] < 0.1:\n",
    "            direction.switch(direction.turn_middle)   \n",
    "        robot.set_motors(130,130)\n",
    "    \n",
    "    # 更新图片显示\n",
    "    image_widget.value = bgr8_to_jpeg(image)\n",
    "    \n",
    "execute({'new': camera.value})"
   ]
  },
  {
   "cell_type": "markdown",
   "metadata": {},
   "source": [
    "### 调用相机的图像来检测目标"
   ]
  },
  {
   "cell_type": "code",
   "execution_count": 11,
   "metadata": {},
   "outputs": [
    {
     "name": "stdout",
     "output_type": "stream",
     "text": [
      "看到了物品：cup杯子, 确信度是: 0.4751182198524475\n",
      "\n"
     ]
    }
   ],
   "source": [
    "camera.unobserve_all()\n",
    "\n",
    "camera.observe(execute, names='value')"
   ]
  },
  {
   "cell_type": "markdown",
   "metadata": {},
   "source": [
    "### 停掉小车和相机"
   ]
  },
  {
   "cell_type": "code",
   "execution_count": 12,
   "metadata": {},
   "outputs": [],
   "source": [
    "camera.unobserve_all()\n",
    "camera.stop()\n",
    "time.sleep(1.0)\n",
    "robot.stop()"
   ]
  },
  {
   "cell_type": "markdown",
   "metadata": {},
   "source": [
    "# 注意：！！！\n",
    "\n",
    "### 1、一定要调用camera.stop()停掉相机，否则下次调用相机时很可能会报错\n",
    "\n",
    "### 2、即使程序执行一半要退出也要camera.stop(),否则再次调用时会报错\n",
    "\n",
    "### 3、记得用camera.stop()打扫现场"
   ]
  }
 ],
 "metadata": {
  "kernelspec": {
   "display_name": "Python 3",
   "language": "python",
   "name": "python3"
  },
  "language_info": {
   "codemirror_mode": {
    "name": "ipython",
    "version": 3
   },
   "file_extension": ".py",
   "mimetype": "text/x-python",
   "name": "python",
   "nbconvert_exporter": "python",
   "pygments_lexer": "ipython3",
   "version": "3.6.9"
  }
 },
 "nbformat": 4,
 "nbformat_minor": 4
}
