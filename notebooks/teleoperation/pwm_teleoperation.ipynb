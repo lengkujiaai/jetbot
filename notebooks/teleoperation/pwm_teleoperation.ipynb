{
 "cells": [
  {
   "cell_type": "markdown",
   "metadata": {},
   "source": [
    "### 手柄操作\n",
    "在此示例中，我们将使用连接到Web浏览器的游戏手柄远程控制Jetbot。"
   ]
  },
  {
   "cell_type": "markdown",
   "metadata": {},
   "source": [
    "### 创建游戏手柄控制器\n",
    "我们要做的第一件事是创建``Controller`组件的实例，我们将用它来驱动机器人。该``Controller``窗口组件需要一个``index``参数，该参数是标识控制器的数字。如果您连接了多个控制器，或者某些游戏手柄显示为多个控制器时会很重要。用来确定您正在使用的控制器的索引。\n",
    "\n",
    "1. 访问http://html5gamepad.com\n",
    "2. 在您使用的游戏板上按一些按钮\n",
    "3. 记住响应按钮按下的游戏手柄的``index``\n",
    "\n",
    "接下来，我们将使用该索引创建并显示我们的控制器。"
   ]
  },
  {
   "cell_type": "code",
   "execution_count": 1,
   "metadata": {},
   "outputs": [
    {
     "data": {
      "application/vnd.jupyter.widget-view+json": {
       "model_id": "be57a5a4e7f2481285a36789ce8291b3",
       "version_major": 2,
       "version_minor": 0
      },
      "text/plain": [
       "Controller()"
      ]
     },
     "metadata": {},
     "output_type": "display_data"
    }
   ],
   "source": [
    "import ipywidgets.widgets as widgets\n",
    "\n",
    "controller = widgets.Controller(index=0)  # replace with index of your controller\n",
    "\n",
    "display(controller)"
   ]
  },
  {
   "cell_type": "markdown",
   "metadata": {},
   "source": [
    "即使索引正确，您也可能会看到文本``Connect gamepad and press any button``。这是因为游戏手柄尚未连接本notebook。按下一个按钮，您应该看到游戏手柄组件出现在上方。"
   ]
  },
  {
   "cell_type": "markdown",
   "metadata": {},
   "source": [
    "### 将游戏手柄控制器连接到机器人的马达\n",
    "现在，即使我们已经连接了游戏手柄，但是尚未将控件附加到机器人上！我们要附加的第一个也是最简单的控件是电机控件。我们将使用``dlink``函数将其连接到左右垂直轴。与``link``函数不同，``dlink``函数不允许我们在``source``和``target``之间转换。由于控制器轴偏离了我们认为对电机控制的直觉，因此我们将使用一个*lambda*函数来对该值取反。\n",
    "\n",
    "> 注意：如果你触碰游戏控制器，下一个单元格将会移动机器人！"
   ]
  },
  {
   "cell_type": "code",
   "execution_count": 2,
   "metadata": {},
   "outputs": [],
   "source": [
    "from jetbot import Robot\n",
    "import traitlets\n",
    "\n",
    "#注意，可以对小车设置的速度范围为0到200\n",
    "robot = Robot()\n",
    "right_link = traitlets.dlink((controller.axes[5], 'value'), (robot.right_motor, 'value'), transform=lambda x: -x * 150)"
   ]
  },
  {
   "cell_type": "markdown",
   "metadata": {},
   "source": [
    "# 初始化舵机"
   ]
  },
  {
   "cell_type": "code",
   "execution_count": 3,
   "metadata": {},
   "outputs": [],
   "source": [
    "from jetbot import Pwm\n",
    "direction = Pwm()\n",
    "#direction.switch(direction.turn_middle)"
   ]
  },
  {
   "cell_type": "markdown",
   "metadata": {},
   "source": [
    "# button 5 居中"
   ]
  },
  {
   "cell_type": "code",
   "execution_count": 4,
   "metadata": {},
   "outputs": [],
   "source": [
    "def steering_direction_middle(change):\n",
    "    direction.switch(direction.turn_middle)\n",
    "controller.buttons[0].observe(steering_direction_middle)"
   ]
  },
  {
   "cell_type": "markdown",
   "metadata": {},
   "source": [
    "# button 6 控制左转"
   ]
  },
  {
   "cell_type": "code",
   "execution_count": 5,
   "metadata": {},
   "outputs": [],
   "source": [
    "def steering_direction_left(change):\n",
    "    direction.switch(direction.turn_left3)\n",
    "controller.buttons[3].observe(steering_direction_left)"
   ]
  },
  {
   "cell_type": "markdown",
   "metadata": {},
   "source": [
    "太棒了！现在，我们的机器人应该可以对游戏手柄控制器的动作做出响应。现在我们想要从摄像机观看实时视频！"
   ]
  },
  {
   "cell_type": "markdown",
   "metadata": {},
   "source": [
    "# button 7 控制右转"
   ]
  },
  {
   "cell_type": "code",
   "execution_count": 6,
   "metadata": {},
   "outputs": [],
   "source": [
    "def steering_direction_right(change):\n",
    "    direction.switch(direction.turn_right3)\n",
    "controller.buttons[1].observe(steering_direction_right)"
   ]
  },
  {
   "cell_type": "markdown",
   "metadata": {},
   "source": [
    "# 前进"
   ]
  },
  {
   "cell_type": "code",
   "execution_count": 7,
   "metadata": {},
   "outputs": [],
   "source": [
    "def move_forward(change):\n",
    "    robot.set_motors(10, 130)\n",
    "    time.sleep(1)\n",
    "    robot.stop()\n",
    "controller.buttons[5].observe(move_forward)"
   ]
  },
  {
   "cell_type": "markdown",
   "metadata": {},
   "source": [
    "# 后退"
   ]
  },
  {
   "cell_type": "code",
   "execution_count": 8,
   "metadata": {},
   "outputs": [],
   "source": [
    "def move_backward(change):\n",
    "    robot.set_motors(0, -130)\n",
    "    time.sleep(1)\n",
    "    robot.stop()\n",
    "controller.buttons[7].observe(move_backward)"
   ]
  },
  {
   "cell_type": "markdown",
   "metadata": {},
   "source": [
    "# 停止"
   ]
  },
  {
   "cell_type": "code",
   "execution_count": 9,
   "metadata": {},
   "outputs": [],
   "source": [
    "def move_stop(change):\n",
    "    robot.stop()\n",
    "controller.buttons[6].observe(move_stop)"
   ]
  },
  {
   "cell_type": "markdown",
   "metadata": {},
   "source": [
    "### 创建并显示图组件\n",
    "首先，让我们显示一个``Image``组件，用它来显示实时摄像机的图像。我们设置``height``和``width``设置为300像素，这样就不会占用太多空间。\n",
    "\n",
    "仅供参考：高度和宽度仅影响浏览器端的渲染，而不影响从机器人到浏览器的网络传输之前的原始图像分辨率。"
   ]
  },
  {
   "cell_type": "code",
   "execution_count": 10,
   "metadata": {},
   "outputs": [
    {
     "data": {
      "application/vnd.jupyter.widget-view+json": {
       "model_id": "0be9c650bbd940688fbb8d4142174fed",
       "version_major": 2,
       "version_minor": 0
      },
      "text/plain": [
       "Image(value=b'', format='jpeg', height='300', width='300')"
      ]
     },
     "metadata": {},
     "output_type": "display_data"
    }
   ],
   "source": [
    "image = widgets.Image(format='jpeg', width=300, height=300)\n",
    "\n",
    "display(image)"
   ]
  },
  {
   "cell_type": "markdown",
   "metadata": {},
   "source": [
    "### 创建相机实例\n",
    "好吧，目前没有图像呈现，因为我们还没有设置值！我们可以通过创建我们的``Camera`` 类并将``value``的属性附加到image的value属性来实现。\n",
    "\n",
    "首先，让我们创建相机实例，我们调用该``instance``方法，如果尚未创建新相机，它将创建一个新相机。如果已经存在，则此方法将返回现有相机。"
   ]
  },
  {
   "cell_type": "code",
   "execution_count": 11,
   "metadata": {},
   "outputs": [],
   "source": [
    "from jetbot import Camera\n",
    "\n",
    "camera = Camera.instance(width=224, height=224, fps=10)"
   ]
  },
  {
   "cell_type": "markdown",
   "metadata": {},
   "source": [
    "### 将相机连接到图像组件"
   ]
  },
  {
   "cell_type": "markdown",
   "metadata": {},
   "source": [
    "我们的相机类当前仅产生BGR8（蓝色，绿色，红色，8位）格式的值，而我们的图像组件则接受压缩的*JPEG*值。要将相机连接到图像，我们需要插入``bgr8_to_jpeg``函数到链接中做转换。我们像下面这样做"
   ]
  },
  {
   "cell_type": "code",
   "execution_count": 12,
   "metadata": {},
   "outputs": [],
   "source": [
    "from jetbot import bgr8_to_jpeg\n",
    "\n",
    "camera_link = traitlets.dlink((camera, 'value'), (image, 'value'), transform=bgr8_to_jpeg)"
   ]
  },
  {
   "cell_type": "markdown",
   "metadata": {},
   "source": [
    "现在，您应该看到上面显示的实时视频！\n",
    "\n",
    "> 提醒：您可以右键单击单元格，然后选择``Create New View for Output``在单独的窗口中显示该单元格。"
   ]
  },
  {
   "cell_type": "markdown",
   "metadata": {},
   "source": [
    "### 使用游戏手柄按钮保存快照\n",
    "现在，我们希望能够从机器人中保存一些图像。让我们做一下，手柄按钮[4]来保存当前实时图像的快照。我们会将图像保存在``snapshots/``目录中，并使用``uuid``包确保其名称唯一。我们使用``uuid1``标识符，因为它还会对日期和MAC地址进行编码，以备后面使用。"
   ]
  },
  {
   "cell_type": "code",
   "execution_count": 14,
   "metadata": {},
   "outputs": [
    {
     "data": {
      "application/vnd.jupyter.widget-view+json": {
       "model_id": "9b2e8b372bf143438cdb9e0634c1d5e1",
       "version_major": 2,
       "version_minor": 0
      },
      "text/plain": [
       "HBox(children=(Image(value=b'\\xff\\xd8\\xff\\xe0\\x00\\x10JFIF\\x00\\x01\\x01\\x00\\x00\\x01\\x00\\x01\\x00\\x00\\xff\\xdb\\x00C…"
      ]
     },
     "metadata": {},
     "output_type": "display_data"
    },
    {
     "data": {
      "application/vnd.jupyter.widget-view+json": {
       "model_id": "be57a5a4e7f2481285a36789ce8291b3",
       "version_major": 2,
       "version_minor": 0
      },
      "text/plain": [
       "Controller(axes=(Axis(value=0.003921627998352051), Axis(value=0.003921627998352051), Axis(value=0.003921627998…"
      ]
     },
     "metadata": {},
     "output_type": "display_data"
    }
   ],
   "source": [
    "import uuid\n",
    "import subprocess\n",
    "import numpy as np\n",
    "import cv2\n",
    "\n",
    "subprocess.call(['mkdir', '-p', 'snapshots'])\n",
    "\n",
    "snapshot_image = widgets.Image(format='jpeg', width=300, height=300)\n",
    "\n",
    "def save_snapshot(change):\n",
    "    # save snapshot when button is pressed down\n",
    "    if change['new']:\n",
    "        file_path = 'snapshots/' + str(uuid.uuid1()) + '.jpg'\n",
    "        \n",
    "        # write snapshot to file (we use image value instead of camera because it's already in JPEG format)\n",
    "        with open(file_path, 'wb') as f:\n",
    "            f.write(image.value)\n",
    "            \n",
    "        # display snapshot that was saved\n",
    "        snapshot_image.value = image.value\n",
    "\n",
    "\n",
    "controller.buttons[4].observe(save_snapshot, names='value')\n",
    "\n",
    "car_widget = widgets.Image(format='jpeg', width=300, height=300)\n",
    "\n",
    "def my_car(camera_image):\n",
    "    image0 = np.copy(camera_image)\n",
    "    image0 = cv2.line(image0, (100,224), (24,200), (0,255,255), 3)\n",
    "    image0 = cv2.line(image0, (124,224), (200,200), (0,255,255), 3)\n",
    "    image0 = cv2.line(image0, (106,224), (106,212), (0,255,0), 3)\n",
    "    image0 = cv2.line(image0, (118,224), (118,212), (0,255,0), 3)\n",
    "    image0 = cv2.line(image0, (106,212), (118,212), (0,255,0), 3)\n",
    "    jpeg_image = bgr8_to_jpeg(image0)\n",
    "    return jpeg_image\n",
    "\n",
    "traitlets.dlink((camera, 'value'), (car_widget, 'value'), transform=my_car)\n",
    "display(widgets.HBox([car_widget]))\n",
    "\n",
    "display(controller)"
   ]
  },
  {
   "cell_type": "markdown",
   "metadata": {},
   "source": [
    "### 结论\n",
    "本示例就是这样，玩得开心！"
   ]
  },
  {
   "cell_type": "code",
   "execution_count": null,
   "metadata": {},
   "outputs": [],
   "source": []
  },
  {
   "cell_type": "code",
   "execution_count": null,
   "metadata": {},
   "outputs": [],
   "source": []
  }
 ],
 "metadata": {
  "kernelspec": {
   "display_name": "Python 3",
   "language": "python",
   "name": "python3"
  },
  "language_info": {
   "codemirror_mode": {
    "name": "ipython",
    "version": 3
   },
   "file_extension": ".py",
   "mimetype": "text/x-python",
   "name": "python",
   "nbconvert_exporter": "python",
   "pygments_lexer": "ipython3",
   "version": "3.6.9"
  }
 },
 "nbformat": 4,
 "nbformat_minor": 4
}
